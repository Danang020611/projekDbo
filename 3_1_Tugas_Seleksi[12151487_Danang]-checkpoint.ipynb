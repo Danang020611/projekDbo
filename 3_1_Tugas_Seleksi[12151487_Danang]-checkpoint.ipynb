{
 "cells": [
  {
   "cell_type": "code",
   "execution_count": null,
   "metadata": {
    "id": "r3Zdz7GxjwEB"
   },
   "outputs": [],
   "source": []
  },
  {
   "cell_type": "markdown",
   "metadata": {
    "id": "Sh1Z3vgEka_O"
   },
   "source": [
    "##3.1. Tugas:\n",
    "Berikut ini adalah psudo code  untuk melakukan pengecekan bertingkat\n",
    "``` javascript\n",
    "i <= 2\n",
    "IF i < 7 THEN\n",
    "\tCETAK \"Nilai i kurang dari 7\"\n",
    "\tIF i < 3 THEN\n",
    "\t   CETAK \"Nilai i kurang dari 7 dan kurang dari 3\"\n",
    "\tELSE\n",
    "\t\tCETAK \"Nilai i kurang dari 7 tapi kurang dari 3\"\n",
    "\n",
    "```\n",
    "Implekementasikan kode diatas dalam kode python. Ketikan code cell di bawah ini pada editor:"
   ]
  },
  {
   "cell_type": "code",
   "execution_count": 1,
   "metadata": {
    "id": "OV-NfRKHk0Vy"
   },
   "outputs": [
    {
     "ename": "NameError",
     "evalue": "name 'i' is not defined",
     "output_type": "error",
     "traceback": [
      "\u001b[1;31m---------------------------------------------------------------------------\u001b[0m",
      "\u001b[1;31mNameError\u001b[0m                                 Traceback (most recent call last)",
      "\u001b[1;32m<ipython-input-1-71f0fb100911>\u001b[0m in \u001b[0;36m<module>\u001b[1;34m\u001b[0m\n\u001b[1;32m----> 1\u001b[1;33m \u001b[0mi\u001b[0m \u001b[1;33m<=\u001b[0m \u001b[1;36m2\u001b[0m\u001b[1;33m\u001b[0m\u001b[1;33m\u001b[0m\u001b[0m\n\u001b[0m",
      "\u001b[1;31mNameError\u001b[0m: name 'i' is not defined"
     ]
    }
   ],
   "source": [
    "i <= 2\n",
    "IF i < 7 THEN\n",
    "    CETAK \"\""
   ]
  },
  {
   "cell_type": "code",
   "execution_count": null,
   "metadata": {},
   "outputs": [],
   "source": []
  }
 ],
 "metadata": {
  "colab": {
   "collapsed_sections": [],
   "name": "3.1_Tugas_Seleksi.ipynb",
   "provenance": []
  },
  "kernelspec": {
   "display_name": "Python 3",
   "language": "python",
   "name": "python3"
  },
  "language_info": {
   "codemirror_mode": {
    "name": "ipython",
    "version": 3
   },
   "file_extension": ".py",
   "mimetype": "text/x-python",
   "name": "python",
   "nbconvert_exporter": "python",
   "pygments_lexer": "ipython3",
   "version": "3.9.0"
  }
 },
 "nbformat": 4,
 "nbformat_minor": 1
}
